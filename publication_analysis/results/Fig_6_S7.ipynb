{
 "cells": [
  {
   "cell_type": "code",
   "execution_count": 1,
   "metadata": {},
   "outputs": [],
   "source": [
    "import os\n",
    "import csv, json, pickle\n",
    "import time\n",
    "from collections import defaultdict, Counter\n",
    "from itertools import combinations, product, chain\n",
    "\n",
    "import numpy as np\n",
    "import scipy.stats as stats\n",
    "import statsmodels.stats.multitest as ssm\n",
    "import graph_tool.all as gt\n",
    "\n",
    "%matplotlib inline \n",
    "import matplotlib.pyplot as plt\n",
    "import matplotlib.gridspec as gs\n",
    "from matplotlib.colors import LinearSegmentedColormap, to_rgb, to_rgba\n",
    "from matplotlib.ticker import AutoMinorLocator\n",
    "import seaborn as sns\n",
    "sns.set_style('white')\n",
    "\n",
    "plt.rcParams['font.size'] = 12\n",
    "plt.rcParams['font.family'] = \"Calibri\"\n",
    "plt.rcParams['svg.fonttype'] = 'none'\n",
    "\n",
    "blue = \"#007EEA\"\n",
    "orange = \"#FEB80A\"\n",
    "green = \"#7FD13B\"\n",
    "pink = \"#EA157A\"\n",
    "white = \"#FFFFFF\"\n",
    "purple = \"#754AB2\"\n",
    "greyRed = LinearSegmentedColormap.from_list('greyRed', ['#DCDCDC', 'w', \"#C41E3A\"])\n",
    "whiteRed = LinearSegmentedColormap.from_list('whiteRed', ['w', 'w', '#C41E3A'])\n",
    "whitePink = LinearSegmentedColormap.from_list(\"whitePink\", ['w', 'w', pink])\n",
    "\n",
    "#defaultBackend = 'module://ipykernel.pylab.backend_inline'\n",
    "\n",
    "#from tqdm import tqdm_notebook as tqdm"
   ]
  },
  {
   "cell_type": "code",
   "execution_count": 2,
   "metadata": {},
   "outputs": [],
   "source": [
    "default_node, default_edge = \"#DCDCDC\", \"#696969\"\n",
    "\n",
    "#domain_order = {d:idx for idx,d in enumerate([\"SH2\", \"PTB\", \"Kinase_TK\",\"PTP\", \"WH1\", \"WW\", \"SH3\", \"PDZ\"])}\n",
    "domain_order = [\"SH2\", \"PTB\", \"Kinase_TK\",\"PTP\", \"WH1\", \"WW\", \"SH3\", \"PDZ\"]\n",
    "domain_colors = [\"#A6D2F8\",\"#59ABF1\", \"#007EEA\", \"#0D5BA1\", \"#CCEDB1\", \"#7FD13B\", \"#5E9031\", orange, default_node]\n",
    "\n",
    "peptide_colors = [blue, green, orange, default_node]\n",
    "peptide_order = [\"phosphosite\", \"polyproline\", \"c-terminus\"] #[\"Phosphosite\", \"Poly-Proline\", \"C-Terminus\"]"
   ]
  },
  {
   "cell_type": "markdown",
   "metadata": {},
   "source": [
    "# Graph construction and plotting code"
   ]
  },
  {
   "cell_type": "code",
   "execution_count": 20,
   "metadata": {},
   "outputs": [],
   "source": [
    "def plot_graph(graph, included_neighborhood=None, min_likelihood=None, max_neighborhood=None, find_shared=None,\n",
    "               peptide_pichart=False, domain_pichart=False, \n",
    "               peptide_colors=peptide_colors, domain_colors=domain_colors,\n",
    "               graph_size=(3600,3600), output_fname=None, seed=None,\n",
    "               vertex_size=None, edge_width=1, edge_color=default_edge, adjust_aspect=True, layout=None):\n",
    "    \"\"\"\n",
    "    Plots output graphs \n",
    "    \n",
    "    Inputs:\n",
    "        graph: graph_tool graph input with properties as defined in the data loading section. \n",
    "        included_neighborhood: a set of vertices to include. Can be used to pass in a specific subset of nodes to plot.\n",
    "        min_likelihood: minimum likelihood to plot (note, invert estimated FDR's)\n",
    "        max_neighborhood: largest number of edges to include around \n",
    "        find_shared: plots a graph showing the graph intersection based on a passed in set of nodes.\n",
    "            Can be helpful for examining a subset of domain nodes. \n",
    "        peptide_pichart, domain_pichart: arguments for plotting either peptide or domain picharts\n",
    "        peptide_colors, domain_colors: colors assigned for plotting either peptide or domain colors\n",
    "        graph_size: plotting option for figure size. \n",
    "        output_fname: output file name to save graph to.         \n",
    "        vertex_size: option for plotting vertex sizes\n",
    "        edge_width, edge_color: options for controlling edge width and color.\n",
    "        \n",
    "    \"\"\"\n",
    "    \n",
    "    np.random.seed(seed)\n",
    "    if seed is not None: gt.seed_rng(seed)\n",
    "    \n",
    "    # Initial global filter on edges on the basis of \n",
    "    min_likelihood = 0 if min_likelihood is None else min_likelihood\n",
    "    gview = gt.GraphView(graph, efilt=lambda e: graph.ep.likelihood[e] >= min_likelihood)\n",
    "\n",
    "    def edge_filter(gview, filt_set, neighborhood_thr=None):\n",
    "        \"\"\"\n",
    "        Helper function for creating a new graph view associated with a given filtering set.\n",
    "        \n",
    "        Inputs:\n",
    "            gview: a prior graph to update with the new filter.\n",
    "            filt_set: a set of vertices to filter down to.\n",
    "            neighborhood_thr: a maximum neighborhood size to filter to. \n",
    "        \"\"\"\n",
    "        included_edges = set()\n",
    "        for v in filter(lambda vmem: graph.vp.name[vmem] in filt_set, gview.vertices()):\n",
    "            incident_edges = [(e, graph.ep.likelihood[e]) for e in v.all_edges()]\n",
    "            \n",
    "            if neighborhood_thr is not None:\n",
    "                incident_edges = sorted(incident_edges, key=lambda x: x[1])\n",
    "                included_edges |= set(etup[0] for etup in incident_edges[-neighborhood_thr:])\n",
    "            else:\n",
    "                included_edges |= set(etup[0] for etup in incident_edges)\n",
    "    \n",
    "        gview = gt.GraphView(gview, efilt=lambda e: e in included_edges)\n",
    "        return gview\n",
    "\n",
    "    # If a specific subset of nodes is desired, \n",
    "    if included_neighborhood:\n",
    "        gview = edge_filter(gview, included_neighborhood, neighborhood_thr=max_neighborhood)\n",
    "    elif max_neighborhood:\n",
    "        domain_containing_vertices = set(gview.vp['name'][v] for v in gview.vertices() if np.sum(gview.vp['domain_dist'][v][:-1]) > 1e-5)\n",
    "        gview = edge_filter(gview, domain_containing_vertices, neighborhood_thr=max_neighborhood)\n",
    "\n",
    "        \n",
    "    if find_shared is not None:\n",
    "        intersection = list()\n",
    "        for s in find_shared:\n",
    "            adj = set(n for v in gview.vertices() for n in v.all_neighbors() if gview.vp.name[v] in s)\n",
    "            intersection.append(adj)\n",
    "        intersection = set.intersection(*intersection)\n",
    "        \n",
    "        base = set.intersection(*find_shared)\n",
    "        intersection |= set(v for v in gview.vertices() if gview.vp.name[v] in base)\n",
    "        \n",
    "        gview = gt.GraphView(gview, vfilt=lambda v: v in intersection)\n",
    "    \n",
    "    gview = gt.GraphView(gview, vfilt=lambda v: v.out_degree() > 0)\n",
    "    \n",
    "    vertex_spec = dict()\n",
    "    if vertex_size: vertex_spec['size'] = vertex_size\n",
    "        \n",
    "    edge_spec = {\n",
    "        \"color\": edge_color,\n",
    "        \"pen_width\": edge_width\n",
    "    }\n",
    "    \n",
    "    if layout is None: layout = gt.sfdp_layout(gview)\n",
    "    if peptide_pichart or domain_pichart:\n",
    "        if peptide_pichart and domain_pichart: raise ValueError(\"Passed in conflicting options - domain and peptide pi chart\")\n",
    "        \n",
    "        vertex_spec[\"shape\"] = \"pie\"\n",
    "        if peptide_pichart:\n",
    "            vertex_spec[\"pie_fractions\"] = graph.vp.peptide_dist\n",
    "            vertex_spec[\"pie_colors\"] = peptide_colors\n",
    "            gt.graph_draw(gview, pos=layout, vprops=vertex_spec, eprops=edge_spec, output_size=graph_size,\n",
    "                          output=output_fname, adjust_aspect=adjust_aspect)\n",
    "        else:\n",
    "            vertex_spec[\"pie_fractions\"] = graph.vp.domain_dist\n",
    "            vertex_spec[\"pie_colors\"] = domain_colors\n",
    "            gt.graph_draw(gview, pos=layout, vprops=vertex_spec, eprops=edge_spec, output_size=graph_size,\n",
    "                          output=output_fname, adjust_aspect=adjust_aspect)\n",
    "        \n",
    "    else:\n",
    "        vertex_spec[\"fill_color\"] = default_node\n",
    "        gt.graph_draw(gview, pos=layout, vprops=vertex_spec, eprops=edge_spec, output_size=graph_size,\n",
    "                      output=output_fname, adjust_aspect=adjust_aspect)\n",
    "    return gview, layout"
   ]
  },
  {
   "cell_type": "markdown",
   "metadata": {},
   "source": [
    "# Graph data Loading"
   ]
  },
  {
   "cell_type": "code",
   "execution_count": 4,
   "metadata": {},
   "outputs": [],
   "source": [
    "def load_graph(input_edges, domain_metadata, peptide_metadata, dorder=domain_order, porder=peptide_order):\n",
    "    \"\"\"\n",
    "    Creates a graph_tool graph with \n",
    "    \n",
    "    Inputs:\n",
    "        input_edges\n",
    "        domain_metadata\n",
    "        peptide_metadata\n",
    "    \"\"\"\n",
    "    \n",
    "    g = gt.Graph(directed=False)\n",
    "    edge_weights = g.new_edge_property(\"float\")\n",
    "    node_props = g.add_edge_list(input_edges, hashed=True, hash_type=\"string\", eprops=[edge_weights])\n",
    "    g.vertex_properties['name'] = node_props\n",
    "    g.edge_properties['likelihood'] = edge_weights\n",
    "    \n",
    "    def create_metadata_property(metadata_dct, metadata_order):\n",
    "        new_property = g.new_vertex_property(\"vector<float>\")\n",
    "        for vertex in g.vertices():\n",
    "            new_distribution = np.zeros(len(metadata_order) + 1).astype(np.float64)\n",
    "            vertex_metadata = metadata_dct.get(g.vp.name[vertex], list())\n",
    "            \n",
    "            if len(vertex_metadata) == 0:\n",
    "                new_distribution[-1] = 1\n",
    "            else:\n",
    "                cts = Counter(vertex_metadata)\n",
    "                for idx, m in enumerate(metadata_order):\n",
    "                    new_distribution[idx] = cts.get(m, 0)\n",
    "            \n",
    "            new_distribution /= np.sum(new_distribution)\n",
    "            new_property[vertex] = new_distribution\n",
    "        \n",
    "        return new_property\n",
    "    \n",
    "    g.vertex_properties['domain_dist'] = create_metadata_property(domain_metadata, dorder)\n",
    "    g.vertex_properties['peptide_dist'] = create_metadata_property(peptide_metadata, porder)\n",
    "          \n",
    "    return g"
   ]
  },
  {
   "cell_type": "markdown",
   "metadata": {},
   "source": [
    "# Human PPI network"
   ]
  },
  {
   "cell_type": "markdown",
   "metadata": {},
   "source": [
    "Load HSM/P predictions. p-values (combined HSM/D p-values) computed previously for comparison to experiment."
   ]
  },
  {
   "cell_type": "code",
   "execution_count": 5,
   "metadata": {},
   "outputs": [],
   "source": [
    "import pandas as pd\n",
    "df_ppis = pd.read_csv('data/perf/hsmp/ppi_predictions_pvals.csv')\n",
    "ppis = df_ppis.to_numpy()"
   ]
  },
  {
   "cell_type": "code",
   "execution_count": 6,
   "metadata": {},
   "outputs": [],
   "source": [
    "from scripts.utils import load_protein_metadata, get_protein_composition\n",
    "metadata = load_protein_metadata()"
   ]
  },
  {
   "cell_type": "code",
   "execution_count": 7,
   "metadata": {},
   "outputs": [],
   "source": [
    "# get all domain data and peptide data for each protein among the predicted PPIs\n",
    "domain_data = defaultdict(list)\n",
    "peptide_data = defaultdict(list)\n",
    "prots = np.unique(ppis[:,0:1].flatten())\n",
    "for prot in prots:\n",
    "    c = get_protein_composition(prot, metadata=metadata)\n",
    "    dlst = [d[0] for d in c if d[0] in domain_order]\n",
    "    domain_data[prot] = dlst #if len(dlst) > 0 else [\"None\"]\n",
    "    plst = [p[0] for p in c if p[0] in peptide_order]\n",
    "    peptide_data[prot] = plst #if len(plst) > 0 else [\"none\"]"
   ]
  },
  {
   "cell_type": "markdown",
   "metadata": {},
   "source": [
    "## Figure 6: Network of PPIs predicted at FDR of 0.01"
   ]
  },
  {
   "cell_type": "code",
   "execution_count": 25,
   "metadata": {},
   "outputs": [
    {
     "name": "stdout",
     "output_type": "stream",
     "text": [
      "143215\n"
     ]
    }
   ],
   "source": [
    "reject, _, _, _ = ssm.multipletests(ppis[:,3], alpha=0.01, method='fdr_bh')\n",
    "ppis_fdr = ppis[reject]\n",
    "edges_fdr = [[str(p[0]), str(p[1]), 1.0-float(p[3])] for p in ppis_fdr]\n",
    "print(len(ppis_fdr))\n",
    "\n",
    "graph_fdr = load_graph(edges_fdr, domain_data, peptide_data)"
   ]
  },
  {
   "cell_type": "code",
   "execution_count": 29,
   "metadata": {
    "scrolled": true
   },
   "outputs": [
    {
     "data": {
      "text/plain": [
       "(<GraphView object, undirected, with 1737 vertices and 20053 edges, 3 internal vertex properties, 1 internal edge property, edges filtered by (<EdgePropertyMap object with value type 'bool', for Graph 0x2e77d9250, at 0x2e77e86a0>, False), vertices filtered by (<VertexPropertyMap object with value type 'bool', for Graph 0x2e77d9250, at 0x2e77e8370>, False), at 0x2e77d9250>,\n",
       " <VertexPropertyMap object with value type 'vector<double>', for Graph 0x2e7089430, at 0x2e7665670>)"
      ]
     },
     "execution_count": 29,
     "metadata": {},
     "output_type": "execute_result"
    }
   ],
   "source": [
    "output_dir = \"plots/fig_6_supp_fig_7\"\n",
    "if not os.path.exists(output_dir): os.makedirs(output_dir)\n",
    "\n",
    "# Fig 6a: Nodes colored by domain composition\n",
    "_, layout = plot_graph(graph_fdr, domain_pichart=True, max_neighborhood=50, seed=111,\n",
    "           graph_size=(200,200), edge_width=0.01, vertex_size=1.5, edge_color=\"#000000\",\n",
    "           output_fname=os.path.join(output_dir,'ppi_network_fdr0.01.domain_color.max_adj50.pdf'))\n",
    "# Fig 6b: Nodes colored by peptide composition\n",
    "plot_graph(graph_fdr, peptide_pichart=True, max_neighborhood=50, layout=layout,\n",
    "           graph_size=(200,200), edge_width=0.01, vertex_size=1.5, edge_color=\"#000000\",\n",
    "           output_fname=os.path.join(output_dir,'ppi_network_fdr0.01.peptide_color.max_adj50.pdf'))"
   ]
  },
  {
   "cell_type": "markdown",
   "metadata": {},
   "source": [
    "## Figure S7: PBD-associating sub-networks"
   ]
  },
  {
   "cell_type": "code",
   "execution_count": 34,
   "metadata": {
    "scrolled": true
   },
   "outputs": [
    {
     "name": "stdout",
     "output_type": "stream",
     "text": [
      "SH2 110\n",
      "PTB 30\n",
      "Kinase_TK 90\n",
      "PTP 37\n",
      "WH1 11\n",
      "WW 51\n",
      "SH3 221\n",
      "PDZ 154\n"
     ]
    }
   ],
   "source": [
    "for domain in domain_order:\n",
    "    include_nodes = set([prot for prot in prots if domain in domain_data[prot]])\n",
    "    print(domain, len(include_nodes))\n",
    "    plot_graph(graph_fdr, included_neighborhood=include_nodes, domain_pichart=True, max_neighborhood=100,\n",
    "               adjust_aspect=False, edge_width=0.01, vertex_size=2.5, edge_color=\"#000000\", graph_size=(200,200),\n",
    "               output_fname=os.path.join(output_dir, '%s_network_fdr0.01.domain_color.max_adj100.pdf' % domain))"
   ]
  },
  {
   "cell_type": "markdown",
   "metadata": {},
   "source": [
    "## Network of PPIs with HSM/P predicted probability > 0.7"
   ]
  },
  {
   "cell_type": "code",
   "execution_count": 36,
   "metadata": {},
   "outputs": [],
   "source": [
    "edges = [[str(p[0]), str(p[1]), float(p[2])] for p in ppis]\n",
    "graph = load_graph(edges, domain_data, peptide_data)"
   ]
  },
  {
   "cell_type": "code",
   "execution_count": 37,
   "metadata": {},
   "outputs": [
    {
     "name": "stdout",
     "output_type": "stream",
     "text": [
      "SH2 110\n",
      "PTB 30\n",
      "Kinase_TK 90\n",
      "PTP 37\n",
      "WH1 11\n",
      "WW 51\n",
      "SH3 221\n",
      "PDZ 154\n"
     ]
    }
   ],
   "source": [
    "_, layout = plot_graph(graph, domain_pichart=True, max_neighborhood=50, min_likelihood=0.7,\n",
    "           adjust_aspect=False, graph_size=(200,200), edge_width=0.01, vertex_size=1.5, edge_color=\"#000000\", seed=111,\n",
    "           output_fname=os.path.join(output_dir,'ppi_network_p0.7.domain_color.max_adj50.pdf'))\n",
    "plot_graph(graph, peptide_pichart=True, max_neighborhood=50, min_likelihood=0.7,\n",
    "           adjust_aspect=False, layout=layout, graph_size=(200,200), edge_width=0.01, vertex_size=1.5, edge_color=\"#000000\",\n",
    "           output_fname=os.path.join(output_dir,'ppi_network_p0.7.peptide_color.max_adj50.pdf'))\n",
    "for domain in domain_order:\n",
    "    include_nodes = set([prot for prot in prots if domain in domain_data[prot]])\n",
    "    print(domain, len(include_nodes))\n",
    "    plot_graph(graph, included_neighborhood=include_nodes, domain_pichart=True, max_neighborhood=100,\n",
    "               min_likelihood=0.7, adjust_aspect=False, graph_size=(200,200), edge_width=0.01, vertex_size=2.5, edge_color=\"#000000\",\n",
    "               output_fname=os.path.join(output_dir, '%s_network_p0.7.domain_color.max_adj100.pdf' % domain))"
   ]
  },
  {
   "cell_type": "code",
   "execution_count": null,
   "metadata": {},
   "outputs": [],
   "source": []
  }
 ],
 "metadata": {
  "kernelspec": {
   "display_name": "py39-veclib",
   "language": "python",
   "name": "py39-veclib"
  },
  "language_info": {
   "codemirror_mode": {
    "name": "ipython",
    "version": 3
   },
   "file_extension": ".py",
   "mimetype": "text/x-python",
   "name": "python",
   "nbconvert_exporter": "python",
   "pygments_lexer": "ipython3",
   "version": "3.9.12"
  }
 },
 "nbformat": 4,
 "nbformat_minor": 4
}
